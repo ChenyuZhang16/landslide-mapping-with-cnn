{
 "cells": [
  {
   "cell_type": "code",
   "execution_count": 1,
   "source": [
    "import os\n",
    "import sys\n",
    "import itertools\n",
    "import random\n",
    "\n",
    "import numpy as np\n",
    "import matplotlib.pyplot as plt\n",
    "\n",
    "from tqdm import tqdm\n",
    "\n",
    "from cnn_landslide_mapping.Utils import gdalCommonUtils as gutils\n",
    "from cnn_landslide_mapping.Utils import IO as io\n",
    "from cnn_landslide_mapping.Utils import tileHelpers as tileHelper\n",
    "\n",
    "import tensorflow as tf\n",
    "from tensorflow.keras import models\n",
    "from osgeo import gdal, ogr, osr\n",
    "import cv2\n",
    "\n",
    "from pyna.rasterlib import Raster"
   ],
   "outputs": [
    {
     "output_type": "stream",
     "name": "stderr",
     "text": [
      "2021-10-02 12:48:22.231510: W tensorflow/stream_executor/platform/default/dso_loader.cc:64] Could not load dynamic library 'libcudart.so.11.0'; dlerror: libcudart.so.11.0: cannot open shared object file: No such file or directory\n",
      "2021-10-02 12:48:22.231570: I tensorflow/stream_executor/cuda/cudart_stub.cc:29] Ignore above cudart dlerror if you do not have a GPU set up on your machine.\n"
     ]
    }
   ],
   "metadata": {}
  },
  {
   "cell_type": "code",
   "execution_count": 46,
   "source": [
    "raw_data_dict = dict()\n",
    "\n",
    "raw_data_dict[\"dem_path\"] = \"Japan_data/dem/download.DSM.tif\"\n",
    "raw_data_dict[\"hs_path\"] = \"Japan_data/hs/download.hillshade.tif\"\n",
    "raw_data_dict[\"slope_path\"] = \"Japan_data/slope/download.slope.tif\"\n",
    "\n",
    "raw_data_dict[\"post_image_path\"] = dict()\n",
    "raw_data_dict[\"post_image_path\"][\"B2\"] = \"Japan_data/post-event/download.B2_uint8.tif\"\n",
    "raw_data_dict[\"post_image_path\"][\"B3\"] = \"Japan_data/post-event/download.B3_uint8.tif\"\n",
    "raw_data_dict[\"post_image_path\"][\"B4\"] = \"Japan_data/post-event/download.B4_uint8.tif\"\n",
    "\n",
    "raw_data_dict[\"pre_image_path\"] = dict()\n",
    "raw_data_dict[\"pre_image_path\"][\"B2\"] = \"Japan_data/pre-event/download.B2_uint8.tif\"\n",
    "raw_data_dict[\"pre_image_path\"][\"B3\"] = \"Japan_data/pre-event/download.B3_uint8.tif\"\n",
    "raw_data_dict[\"pre_image_path\"][\"B4\"] = \"Japan_data/pre-event/download.B4_uint8.tif\"\n",
    "\n",
    "raw_data_dict[\"no_data_mask\"] = None\n",
    "\n",
    "roi_path=\"Japan_data/aoi_S2.tif\""
   ],
   "outputs": [],
   "metadata": {}
  },
  {
   "cell_type": "code",
   "execution_count": 3,
   "source": [
    "def open_and_rescale_to_baseResolution(img_path, shape, bbox, crop_to_bbox=None):\n",
    "    img = gutils.readGDAL2numpy(img_path)\n",
    "    img = tileHelper.rescaleInput(img, shape)\n",
    "    if crop_to_bbox is not None:\n",
    "        yMin, yMax, xMin, xMax = bbox\n",
    "        img = img[yMin: yMax, xMin: xMax]\n",
    "    return img\n",
    "\n",
    "\n",
    "def normalize(image):\n",
    "    new_img = np.array(image, dtype=np.float32)\n",
    "    new_img /= 127.5\n",
    "    new_img -= 1.\n",
    "    return new_img\n",
    "\n",
    "\n",
    "def normalizeArray(image):\n",
    "    # post image\n",
    "    image[:, :, :3] = normalize(image[:, :, :3])\n",
    "\n",
    "    # pre image\n",
    "    image[:, :, 3:6] = normalize(image[:, :, 3:6])\n",
    "\n",
    "    # HS image\n",
    "    image[:, :, 6:7] = normalize(image[:, :, 6:7])\n",
    "\n",
    "    # Slope Image\n",
    "    image[:, :, -1] = (image[:, :, -1] / 45.0) - 1.0\n",
    "\n",
    "    return image"
   ],
   "outputs": [],
   "metadata": {}
  },
  {
   "cell_type": "code",
   "execution_count": 59,
   "source": [
    "def loadArray(tiff_path):\n",
    "    arr, _, _, _ = Raster().load_image(tiff_path)\n",
    "    return arr\n",
    "\n",
    "def getTiffDimension(tiff_path):\n",
    "    arr, tr, pr, _ = Raster().load_image(tiff_path)\n",
    "    return arr.shape\n",
    "\n",
    "def getTiffDtype(tiff_path):\n",
    "    arr, tr, pr, _ = Raster().load_image(tiff_path)\n",
    "    return arr.dtype\n",
    "\n",
    "def convTiffUint16ToUint8(in_path, out_path):\n",
    "    arr, tr, pr, _ = Raster().load_image(in_path)\n",
    "    \n",
    "    assert arr.dtype == np.uint16\n",
    "\n",
    "    arr_uint8 = (arr/256).astype('uint8')\n",
    "\n",
    "    Raster().write_image(arr_uint8, out_path, tr, pr)\n",
    "\n",
    "def duplicateAsUint16(tiff_path):\n",
    "    name, ext = os.path.splitext(tiff_path)\n",
    "    out_path = name + \"_uint8\" + ext\n",
    "    convTiffUint16ToUint8(tiff_path, out_path)"
   ],
   "outputs": [],
   "metadata": {}
  },
  {
   "cell_type": "code",
   "execution_count": 47,
   "source": [
    "dem_path = raw_data_dict[\"dem_path\"]\n",
    "hs_path = raw_data_dict[\"hs_path\"]\n",
    "slope_path = raw_data_dict[\"slope_path\"]\n",
    "\n",
    "post_image_path = raw_data_dict[\"post_image_path\"]\n",
    "pre_image_path = raw_data_dict[\"pre_image_path\"]\n",
    "no_data_mask = raw_data_dict[\"no_data_mask\"]"
   ],
   "outputs": [],
   "metadata": {}
  },
  {
   "cell_type": "code",
   "execution_count": 48,
   "source": [
    "bbox, binaryMask, newGeoT, proj = gutils.getBoundingBox(\n",
    "        rasterPath=roi_path, returnBinaryMask=True)\n",
    "nscn, npix = binaryMask.shape\n",
    "\n",
    "print(f\"{bbox = }\")\n",
    "arr, tr, pr, _ = Raster().load_image(roi_path)\n",
    "print(f\"{arr.shape = }\")\n"
   ],
   "outputs": [
    {
     "output_type": "stream",
     "name": "stdout",
     "text": [
      "bbox = [0, 969, 0, 1532]\n",
      "arr.shape = (970, 1533)\n"
     ]
    }
   ],
   "metadata": {}
  },
  {
   "cell_type": "code",
   "execution_count": 49,
   "source": [
    "maskImage = np.ones(shape=(nscn, npix))\n",
    "maskImage[binaryMask == 0] = 0"
   ],
   "outputs": [],
   "metadata": {}
  },
  {
   "cell_type": "code",
   "execution_count": 50,
   "source": [
    "imageSize = 224\n",
    "overlapFactor = 2\n",
    "fetchSize = int(imageSize / 2)\n",
    "print(f\"{fetchSize = }\")\n",
    "skipPx = int(imageSize / overlapFactor)\n",
    "print(f\"{skipPx = }\")\n",
    "\n",
    "# Generates all possible bounding boxes for tiling\n",
    "# The center location of every box is the anchor point defined in list 'locXY'\n",
    "y = [y for y in range(fetchSize + 1, nscn - fetchSize - 1, skipPx)]\n",
    "x = [x for x in range(fetchSize + 1, npix - fetchSize - 1, skipPx)]\n",
    "locXY = list(itertools.product(x, y))\n",
    "\n",
    "print(f\"{locXY = }\")\n",
    "\n",
    "# extract all the valid boxes\n",
    "# i.e. which are in the study area and landslide mask\n",
    "# Mask Image == 1 for valid regions\n",
    "# threshold of 0.75 --> 75% region is valid\n",
    "validLocXY = [currLoc for currLoc in locXY if tileHelper.isValidTile(\n",
    "    maskImage, imageSize, currLoc, threshold=0.50)]\n",
    "\n",
    "print(f\"{validLocXY = }\")\n"
   ],
   "outputs": [
    {
     "output_type": "stream",
     "name": "stdout",
     "text": [
      "fetchSize = 112\n",
      "skipPx = 112\n",
      "locXY = [(113, 113), (113, 225), (113, 337), (113, 449), (113, 561), (113, 673), (113, 785), (225, 113), (225, 225), (225, 337), (225, 449), (225, 561), (225, 673), (225, 785), (337, 113), (337, 225), (337, 337), (337, 449), (337, 561), (337, 673), (337, 785), (449, 113), (449, 225), (449, 337), (449, 449), (449, 561), (449, 673), (449, 785), (561, 113), (561, 225), (561, 337), (561, 449), (561, 561), (561, 673), (561, 785), (673, 113), (673, 225), (673, 337), (673, 449), (673, 561), (673, 673), (673, 785), (785, 113), (785, 225), (785, 337), (785, 449), (785, 561), (785, 673), (785, 785), (897, 113), (897, 225), (897, 337), (897, 449), (897, 561), (897, 673), (897, 785), (1009, 113), (1009, 225), (1009, 337), (1009, 449), (1009, 561), (1009, 673), (1009, 785), (1121, 113), (1121, 225), (1121, 337), (1121, 449), (1121, 561), (1121, 673), (1121, 785), (1233, 113), (1233, 225), (1233, 337), (1233, 449), (1233, 561), (1233, 673), (1233, 785), (1345, 113), (1345, 225), (1345, 337), (1345, 449), (1345, 561), (1345, 673), (1345, 785)]\n",
      "validLocXY = [(113, 113), (113, 225), (113, 337), (113, 449), (113, 561), (113, 673), (113, 785), (225, 113), (225, 225), (225, 337), (225, 449), (225, 561), (225, 673), (225, 785), (337, 113), (337, 225), (337, 337), (337, 449), (337, 561), (337, 673), (337, 785), (449, 113), (449, 225), (449, 337), (449, 449), (449, 561), (449, 673), (449, 785), (561, 113), (561, 225), (561, 337), (561, 449), (561, 561), (561, 673), (561, 785), (673, 113), (673, 225), (673, 337), (673, 449), (673, 561), (673, 673), (673, 785), (785, 113), (785, 225), (785, 337), (785, 449), (785, 561), (785, 673), (785, 785), (897, 113), (897, 225), (897, 337), (897, 449), (897, 561), (897, 673), (897, 785), (1009, 113), (1009, 225), (1009, 337), (1009, 449), (1009, 561), (1009, 673), (1009, 785), (1121, 113), (1121, 225), (1121, 337), (1121, 449), (1121, 561), (1121, 673), (1121, 785), (1233, 113), (1233, 225), (1233, 337), (1233, 449), (1233, 561), (1233, 673), (1233, 785), (1345, 113), (1345, 225), (1345, 337), (1345, 449), (1345, 561), (1345, 673), (1345, 785)]\n"
     ]
    }
   ],
   "metadata": {}
  },
  {
   "cell_type": "code",
   "execution_count": 57,
   "source": [
    "postImage_sub = dict()\n",
    "postImage_sub[\"B2\"] = open_and_rescale_to_baseResolution(\n",
    "    img_path=post_image_path[\"B2\"], shape=(nscn, npix), bbox=bbox, crop_to_bbox=bbox)\n",
    "postImage_sub[\"B3\"] = open_and_rescale_to_baseResolution(\n",
    "    img_path=post_image_path[\"B3\"], shape=(nscn, npix), bbox=bbox, crop_to_bbox=bbox)\n",
    "postImage_sub[\"B4\"] = open_and_rescale_to_baseResolution(\n",
    "    img_path=post_image_path[\"B4\"], shape=(nscn, npix), bbox=bbox, crop_to_bbox=bbox)\n",
    "\n",
    "preImage_sub = dict()\n",
    "preImage_sub[\"B2\"] = open_and_rescale_to_baseResolution(\n",
    "    img_path=pre_image_path[\"B2\"], shape=(nscn, npix), bbox=bbox, crop_to_bbox=bbox)\n",
    "preImage_sub[\"B3\"] = open_and_rescale_to_baseResolution(\n",
    "    img_path=pre_image_path[\"B3\"], shape=(nscn, npix), bbox=bbox, crop_to_bbox=bbox)\n",
    "preImage_sub[\"B4\"] = open_and_rescale_to_baseResolution(\n",
    "    img_path=pre_image_path[\"B4\"], shape=(nscn, npix), bbox=bbox, crop_to_bbox=bbox)\n",
    "\n",
    "postImage = np.dstack([postImage_sub[\"B4\"], postImage_sub[\"B3\"], postImage_sub[\"B2\"]])\n",
    "preImage = np.dstack([preImage_sub[\"B4\"], preImage_sub[\"B3\"], preImage_sub[\"B2\"]])\n",
    "\n",
    "# scale the images\n",
    "scale = 2**8 / np.max([postImage.max(), preImage.max()])\n",
    "postImage = (scale * postImage).astype(np.uint8)\n",
    "preImage = (scale * preImage).astype(np.uint8)\n",
    "\n",
    "print(f\"{postImage_sub['B2'].shape = }\")\n",
    "\n",
    "print(f\"{getTiffDimension(post_image_path['B2']) = }\")\n",
    "\n",
    "print(f\"{getTiffDimension(raw_data_dict['hs_path']) = }\")\n"
   ],
   "outputs": [
    {
     "output_type": "stream",
     "name": "stdout",
     "text": [
      "postImage_sub['B2'].shape = (969, 1532)\n",
      "getTiffDimension(post_image_path['B2']) = (970, 1533)\n",
      "getTiffDimension(raw_data_dict['hs_path']) = (324, 512)\n"
     ]
    }
   ],
   "metadata": {}
  },
  {
   "cell_type": "code",
   "execution_count": 58,
   "source": [
    "# check data types\n",
    "print(f\"{getTiffDtype(post_image_path['B2']) = }\")\n",
    "print(f\"{getTiffDtype('RawData/AOI_E_S2-S2/fromOptical/JIUZ_POST_S2_RGB_010_UINT8.tif') = }\")\n",
    "\n",
    "print(f\"{postImage.dtype = }\")\n",
    "\n",
    "print(f\"{getTiffDtype('RawData/AOI_E_S2-S2/testBoundary/Test_006.tif') = }\")\n",
    "print(f\"{getTiffDtype('Japan_data/aoi.tif') = }\")\n",
    "\n",
    "print(f\"{postImage.max() = }\")"
   ],
   "outputs": [
    {
     "output_type": "stream",
     "name": "stdout",
     "text": [
      "getTiffDtype(post_image_path['B2']) = dtype('uint8')\n",
      "getTiffDtype('RawData/AOI_E_S2-S2/fromOptical/JIUZ_POST_S2_RGB_010_UINT8.tif') = dtype('uint8')\n",
      "postImage.dtype = dtype('uint8')\n",
      "getTiffDtype('RawData/AOI_E_S2-S2/testBoundary/Test_006.tif') = dtype('uint8')\n",
      "getTiffDtype('Japan_data/aoi.tif') = dtype('uint8')\n",
      "postImage.max() = 240\n"
     ]
    }
   ],
   "metadata": {}
  },
  {
   "cell_type": "code",
   "execution_count": 31,
   "source": [
    "# Genearate AOI mask from S2 data\n",
    "arr_post_b2, tr_post_b2, pr_post_b2, _ = Raster().load_image(post_image_path['B2'])\n",
    "\n",
    "Raster().write_image(np.ones_like(arr_post_b2, dtype=np.uint8), \"aoi_S2\", tr_post_b2, pr_post_b2)"
   ],
   "outputs": [],
   "metadata": {}
  },
  {
   "cell_type": "code",
   "execution_count": 40,
   "source": [
    "# convert S2 data to uint8\n",
    "\n",
    "def duplicateTiffAsUint8InDir(dir_path):\n",
    "    for file in os.listdir(dir_path):\n",
    "        if \"uint8\" not in file:\n",
    "            duplicateAsUint16(os.path.join(dir_path, file))\n",
    "\n",
    "duplicateTiffAsUint8InDir(\"Japan_data/post-event\")\n",
    "duplicateTiffAsUint8InDir(\"Japan_data/pre-event\")\n"
   ],
   "outputs": [],
   "metadata": {}
  },
  {
   "cell_type": "code",
   "execution_count": 62,
   "source": [
    "arr = loadArray(\"Japan_data/pre-event/download.B2_uint8.tif\")\n",
    "\n",
    "plot = plt.contourf(arr)\n",
    "cbar = plt.colorbar(plot)"
   ],
   "outputs": [
    {
     "output_type": "display_data",
     "data": {
      "image/png": "[encoded data removed]",
      "text/plain": [
       "<Figure size 432x288 with 2 Axes>"
      ]
     },
     "metadata": {
      "needs_background": "light"
     }
    }
   ],
   "metadata": {}
  }
 ],
 "metadata": {
  "orig_nbformat": 4,
  "language_info": {
   "name": "python",
   "version": "3.8.11",
   "mimetype": "text/x-python",
   "codemirror_mode": {
    "name": "ipython",
    "version": 3
   },
   "pygments_lexer": "ipython3",
   "nbconvert_exporter": "python",
   "file_extension": ".py"
  },
  "kernelspec": {
   "name": "python3",
   "display_name": "Python 3.8.11 64-bit ('nasa-space-app': conda)"
  },
  "interpreter": {
   "hash": "9b57f55c35655ccb504dfb71b8f3492364b1bf4902ef9ce7dc8b4f55487eb9e8"
  }
 },
 "nbformat": 4,
 "nbformat_minor": 2
}